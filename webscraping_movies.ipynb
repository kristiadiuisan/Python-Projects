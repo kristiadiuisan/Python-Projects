{
 "cells": [
  {
   "cell_type": "markdown",
   "id": "3c5ce567-6953-43f3-a098-1cf23a8abcb3",
   "metadata": {},
   "source": [
    "# Web scraping and Extracting Data using APIs"
   ]
  },
  {
   "cell_type": "markdown",
   "id": "b3531bfb-feef-4a54-b037-9ecf1b3d8fb6",
   "metadata": {},
   "source": [
    "Web scraping is used for extraction of relevant data from web pages. If you require some data from a web page in a public domain, web scraping makes the process of data extraction quite convenient. The use of web scraping, however, requires some basic knowledge of the structure of HTML pages."
   ]
  },
  {
   "cell_type": "markdown",
   "id": "0973bfab-8687-4317-ba84-219e7cb386b7",
   "metadata": {},
   "source": [
    "To install the necessary packages, run the following commands in a terminal window."
   ]
  },
  {
   "cell_type": "raw",
   "id": "f50fc530-de25-45f9-bfb1-85fb66f8a9e8",
   "metadata": {},
   "source": [
    "python3.11 -m pip install pandas\n",
    "python3.11 -m pip install bs4"
   ]
  },
  {
   "cell_type": "markdown",
   "id": "b9b29edb-0bbc-446b-a3fb-24bc16742056",
   "metadata": {},
   "source": [
    "# Importing Libraries"
   ]
  },
  {
   "cell_type": "markdown",
   "id": "ca29bf80-4f59-4a6e-a889-0a395158565e",
   "metadata": {},
   "source": [
    "Import the following four libraries by adding lines of code noted below to webscraping_movies.pyfile."
   ]
  },
  {
   "cell_type": "code",
   "execution_count": 6,
   "id": "e0727f7f-2ea1-4f6c-859d-8867f7c14ed5",
   "metadata": {},
   "outputs": [],
   "source": [
    "import requests\n",
    "import sqlite3\n",
    "import pandas as pd\n",
    "from bs4 import BeautifulSoup"
   ]
  },
  {
   "cell_type": "markdown",
   "id": "d1b18a86-a771-404b-85d7-0c28702261e3",
   "metadata": {},
   "source": [
    "# Initialization of known entities"
   ]
  },
  {
   "cell_type": "markdown",
   "id": "16412252-f2a6-435d-8c76-71a02680cee0",
   "metadata": {},
   "source": [
    "Declare a few entities at the beginning. "
   ]
  },
  {
   "cell_type": "code",
   "execution_count": 9,
   "id": "7726d45b-e212-4eff-b7a6-63c5df0dca93",
   "metadata": {},
   "outputs": [],
   "source": [
    "url = 'https://web.archive.org/web/20230902185655/https://en.everybodywiki.com/100_Most_Highly-Ranked_Films'\n",
    "db_name = 'Movies.db'\n",
    "table_name = 'Top_50'\n",
    "csv_path = 'top_50_films.csv'\n",
    "df = pd.DataFrame(columns=[\"Average Rank\",\"Film\",\"Year\"])\n",
    "count = 0"
   ]
  },
  {
   "cell_type": "markdown",
   "id": "56433cfe-8654-47b5-b593-b2b4a984dbf5",
   "metadata": {},
   "source": [
    "# Loading the webpage for Webscraping"
   ]
  },
  {
   "cell_type": "markdown",
   "id": "f407ea60-430d-40c2-a94c-1f95cba300b9",
   "metadata": {},
   "source": [
    "To access the required information from the web page, load the entire web page as an HTML document in python using the requests.get().text function and then parse the text in the HTML format using BeautifulSoup to enable extraction of relevant information."
   ]
  },
  {
   "cell_type": "code",
   "execution_count": 12,
   "id": "3ae791d6-4102-4e82-b44e-e90e3f54a569",
   "metadata": {},
   "outputs": [],
   "source": [
    "html_page = requests.get(url).text\n",
    "data = BeautifulSoup(html_page, 'html.parser')"
   ]
  },
  {
   "cell_type": "markdown",
   "id": "e5387fc2-26c8-4b9d-aa5f-4f0bffec79ce",
   "metadata": {},
   "source": [
    "# Scraping of required information"
   ]
  },
  {
   "cell_type": "markdown",
   "id": "d320068d-d4af-4e4b-878f-d7e4149a69b7",
   "metadata": {},
   "source": [
    "Write the loop to extract the appropriate information from the web page. The rows of the table needed can be accessed using the find_all() function with the BeautifulSoup object using the statements below."
   ]
  },
  {
   "cell_type": "code",
   "execution_count": 15,
   "id": "9eda8192-176d-4c27-8775-387c20bbe060",
   "metadata": {},
   "outputs": [],
   "source": [
    "tables = data.find_all('tbody')\n",
    "rows = tables[0].find_all('tr')"
   ]
  },
  {
   "cell_type": "markdown",
   "id": "2f9a8bf2-529e-48f3-af0f-950c80eb1dd7",
   "metadata": {},
   "source": [
    "Here, the variable tables gets the body of all the tables in the web page and the variable rows gets all the rows of the first table."
   ]
  },
  {
   "cell_type": "markdown",
   "id": "7cbf214e-c77c-4b16-8389-b5b4465a31b3",
   "metadata": {},
   "source": [
    "Iterate over the rows to find the required data. Use the code shown below to extract the information."
   ]
  },
  {
   "cell_type": "code",
   "execution_count": 18,
   "id": "087c3cf6-86e5-47c6-b652-635d2f005c0e",
   "metadata": {},
   "outputs": [],
   "source": [
    "for row in rows:\n",
    "    if count<50:\n",
    "        col = row.find_all('td')\n",
    "        if len(col)!=0:\n",
    "            data_dict = {\"Average Rank\": col[0].contents[0],\n",
    "                         \"Film\": col[1].contents[0],\n",
    "                         \"Year\": col[2].contents[0]}\n",
    "            df1 = pd.DataFrame(data_dict, index=[0])\n",
    "            df = pd.concat([df,df1], ignore_index=True)\n",
    "            count+=1\n",
    "    else:\n",
    "        break"
   ]
  },
  {
   "cell_type": "markdown",
   "id": "3bb4481a-a6d6-412b-a8bc-845d68a21611",
   "metadata": {},
   "source": [
    "The code functions as follows.\n",
    "\n",
    "1. Iterate over the contents of the variable rows.\n",
    "2. Check for the loop counter to restrict to 50 entries.\n",
    "3. Extract all the td data objects in the row and save them to col.\n",
    "4. Check if the length of col is 0, that is, if there is no data in a current row. This is important since, many timesm there are merged rows that are not apparent in the web page appearance.\n",
    "5. Create a dictionary data_dict with the keys same as the columns of the dataframe created for recording the output earlier and corresponding values from the first three headers of data.\n",
    "6. Convert the dictionary to a dataframe and concatenate it with the existing one. This way, the data keeps getting appended to the dataframe with every iteration of the loop.\n",
    "7. Increment the loop counter.\n",
    "8. Once the counter hits 50, stop iterating over rows and break the loop."
   ]
  },
  {
   "cell_type": "markdown",
   "id": "32a0e912-9077-4309-9cb0-2fe27b92d47e",
   "metadata": {},
   "source": [
    "Print the contents of the dataframe using the following:"
   ]
  },
  {
   "cell_type": "code",
   "execution_count": 21,
   "id": "48445c96-3dd8-4ad7-baf2-c5b104d3ef0d",
   "metadata": {},
   "outputs": [
    {
     "name": "stdout",
     "output_type": "stream",
     "text": [
      "   Average Rank                                           Film  Year\n",
      "0             1                                  The Godfather  1972\n",
      "1             2                                   Citizen Kane  1941\n",
      "2             3                                     Casablanca  1942\n",
      "3             4                         The Godfather, Part II  1974\n",
      "4             5                            Singin' in the Rain  1952\n",
      "5             6                                         Psycho  1960\n",
      "6             7                                    Rear Window  1954\n",
      "7             8                                 Apocalypse Now  1979\n",
      "8             9                          2001: A Space Odyssey  1968\n",
      "9            10                                  Seven Samurai  1954\n",
      "10           11                                        Vertigo  1958\n",
      "11           12                                    Sunset Blvd  1950\n",
      "12           13                                   Modern Times  1936\n",
      "13           14                             Lawrence of Arabia  1962\n",
      "14           15                             North by Northwest  1959\n",
      "15           16                                      Star Wars  1977\n",
      "16           17                                       Parasite  2019\n",
      "17           18                               Schindler's List  1993\n",
      "18           19  Lord of the Rings: The Fellowship of the Ring  2001\n",
      "19           20                           Shawshank Redemption  1994\n",
      "20           21                          It's a Wonderful Life  1946\n",
      "21           22                                   Pulp Fiction  1994\n",
      "22           23                              Avengers: Endgame  2019\n",
      "23           24                                    City Lights  1931\n",
      "24           25                One Flew Over the Cuckoo's Nest  1975\n",
      "25           26                                     Goodfellas  1990\n",
      "26           27                        Raiders of the Lost Ark  1981\n",
      "27           28                                   12 Angry Men  1957\n",
      "28           29                       The Silence of the Lambs  1991\n",
      "29           30                                    Taxi Driver  1976\n",
      "30           31                            Saving Private Ryan  1998\n",
      "31           32                     E.T. the Extra Terrestrial  1982\n",
      "32           33                                          Alien  1979\n",
      "33           34              Spider-Man: Into the Spider-verse  2018\n",
      "34           35                                   Blade Runner  1982\n",
      "35           36                               Double Indemnity  1944\n",
      "36           37                                The Dark Knight  2008\n",
      "37           38                               The Wizard of Oz  1939\n",
      "38           39  Star Wars: Episode V- The Empire Strikes Back  1980\n",
      "39           40                                  The Searchers  1956\n",
      "40           41                             Mad Max: Fury Road  2015\n",
      "41           42                                      Inception  2010\n",
      "42           43          Lord of the Rings: Return of the King  2003\n",
      "43           44                                     The Matrix  1999\n",
      "44           45                                     Fight Club  1999\n",
      "45           46                             Back to the Future  1985\n",
      "46           47                          It Happened One Night  1934\n",
      "47           48                The Good, the Bad, and the Ugly  1966\n",
      "48           49              Lord of the Rings: The Two Towers  2002\n",
      "49           50                                  All About Eve  1950\n"
     ]
    }
   ],
   "source": [
    "print(df)"
   ]
  },
  {
   "cell_type": "markdown",
   "id": "d2ed3521-047a-481f-bcc2-1e31e10ba8de",
   "metadata": {},
   "source": [
    "# Storing the data"
   ]
  },
  {
   "cell_type": "markdown",
   "id": "6c0bf627-dfb4-430a-a075-aa38cac8fb05",
   "metadata": {},
   "source": [
    "After the dataframe has been created, save it to a CSV file using the following command:"
   ]
  },
  {
   "cell_type": "code",
   "execution_count": 24,
   "id": "a66d4436-f90d-47a6-8998-1b3f94154476",
   "metadata": {},
   "outputs": [],
   "source": [
    "df.to_csv(csv_path)"
   ]
  },
  {
   "cell_type": "markdown",
   "id": "d2126258-d32c-4546-9d02-bcf538232805",
   "metadata": {},
   "source": [
    "The variable csv_path had been defined earlier"
   ]
  },
  {
   "cell_type": "markdown",
   "id": "061b85c7-2836-42c0-9abf-a0592c629eb7",
   "metadata": {},
   "source": [
    "To store the required data in a database, initialize a connection to the database, save the dataframe as a table, and then close the connection. This can be done using the following code:"
   ]
  },
  {
   "cell_type": "code",
   "execution_count": 27,
   "id": "fac7106a-5f0b-4e50-b71a-e83ba69cefdb",
   "metadata": {},
   "outputs": [],
   "source": [
    "conn = sqlite3.connect(db_name)\n",
    "df.to_sql(table_name, conn, if_exists='replace', index=False)\n",
    "conn.close()"
   ]
  },
  {
   "cell_type": "markdown",
   "id": "69c46252-4dec-4b1f-b0c2-614729aee23c",
   "metadata": {},
   "source": [
    "# Execute the code"
   ]
  },
  {
   "cell_type": "markdown",
   "id": "80826640-82e5-4613-8f3f-eaf7d0cecb30",
   "metadata": {},
   "source": [
    "Execute the code using the statement below in a terminal window. Make sure the current directory is /home/project/."
   ]
  },
  {
   "cell_type": "raw",
   "id": "d558d40c-25ad-4239-986c-1d7c51794974",
   "metadata": {},
   "source": [
    "python3.11 webscraping_movies.py"
   ]
  }
 ],
 "metadata": {
  "kernelspec": {
   "display_name": "Python [conda env:base] *",
   "language": "python",
   "name": "conda-base-py"
  },
  "language_info": {
   "codemirror_mode": {
    "name": "ipython",
    "version": 3
   },
   "file_extension": ".py",
   "mimetype": "text/x-python",
   "name": "python",
   "nbconvert_exporter": "python",
   "pygments_lexer": "ipython3",
   "version": "3.12.7"
  }
 },
 "nbformat": 4,
 "nbformat_minor": 5
}
