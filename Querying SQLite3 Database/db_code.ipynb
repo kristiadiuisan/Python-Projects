{
 "cells": [
  {
   "cell_type": "markdown",
   "id": "efe9f24d-441c-4bed-9d99-636d98599cb9",
   "metadata": {},
   "source": [
    "# Accessing Databases using Python Script"
   ]
  },
  {
   "cell_type": "markdown",
   "id": "2591aaf9-1bfd-4034-b757-54a6eae21436",
   "metadata": {},
   "source": [
    "Using databases is an important and useful method of sharing information. To preserve repeated storage of the same files containing the required data, it is a good practice to save the said data on a database on a server and access the required subset of information using database management systems."
   ]
  },
  {
   "cell_type": "markdown",
   "id": "7c44e457-cfeb-4493-be32-5e0dfaa2b6cb",
   "metadata": {},
   "source": [
    "# Setting Up"
   ]
  },
  {
   "cell_type": "markdown",
   "id": "4661eb24-610f-4894-946d-f07e7ffec944",
   "metadata": {},
   "source": [
    "Usually, the database for storing data would be created on a server to which the other team members would have access. In lab, the database is created on a dummy server using SQLite3 library."
   ]
  },
  {
   "cell_type": "markdown",
   "id": "b6b93f19-25d3-4c85-931c-5b9727e550a2",
   "metadata": {},
   "source": [
    "Run the following command in the terminal. Make sure the current directory in the terminal window is /home/project/."
   ]
  },
  {
   "cell_type": "raw",
   "id": "50abb699-8d5c-439d-8fa9-b372ab32c4f1",
   "metadata": {},
   "source": [
    "wget https://cf-courses-data.s3.us.cloud-object-storage.appdomain.cloud/IBMSkillsNetwork-PY0221EN-Coursera/labs/v2/INSTRUCTOR.csv"
   ]
  },
  {
   "cell_type": "markdown",
   "id": "c6a36f5c-9e15-49f0-aadd-6b99510314b5",
   "metadata": {},
   "source": [
    "Further, to read the CSV and interact with the database, you'll need the pandas library. This library will first have to be installed in the Cloud IDE framework. For this, run the below mentioned statement in a terminal window."
   ]
  },
  {
   "cell_type": "raw",
   "id": "4102d0b1-4a8b-4882-9f7e-c17707235434",
   "metadata": {},
   "source": [
    "python3.11 -m pip install pandas"
   ]
  },
  {
   "cell_type": "markdown",
   "id": "026ba199-b17f-44b6-9e26-a3c318780c6d",
   "metadata": {},
   "source": [
    "# Python Scripting: Database initiation"
   ]
  },
  {
   "cell_type": "code",
   "execution_count": 1,
   "id": "5fe2fed4-e1c3-4d91-9855-c0f95124a2bc",
   "metadata": {},
   "outputs": [],
   "source": [
    "import sqlite3\n",
    "import pandas as pd"
   ]
  },
  {
   "cell_type": "code",
   "execution_count": 2,
   "id": "60d2d7c2-da0e-4579-ba8c-07c471004837",
   "metadata": {},
   "outputs": [],
   "source": [
    "# Connect to the SQLite3 service\n",
    "conn = sqlite3.connect('STAFF.db')"
   ]
  },
  {
   "cell_type": "markdown",
   "id": "1ebd6db4-92cc-4b53-8349-6007b2705f4b",
   "metadata": {},
   "source": [
    "# Python Scripting: Create and Load the table"
   ]
  },
  {
   "cell_type": "markdown",
   "id": "5a6cb3ae-db63-4acc-b27e-b7e3b40d0e5c",
   "metadata": {},
   "source": [
    "To create a table in the database, we first need to have the attributes of the required table. Attributes are columns of the table. Along with their names, the knowledge of their data types are also required."
   ]
  },
  {
   "cell_type": "code",
   "execution_count": 5,
   "id": "c8d8b72d-4e8c-4731-8026-40ebf56e5fdf",
   "metadata": {},
   "outputs": [],
   "source": [
    "# Define table parameters\n",
    "table_name = 'INSTRUCTOR'\n",
    "attribute_list = ['ID', 'FNAME', 'LNAME', 'CITY', 'CCODE']"
   ]
  },
  {
   "cell_type": "markdown",
   "id": "6528c89e-1c53-4b66-8bb8-3f2112610938",
   "metadata": {},
   "source": [
    "# Reading the CSV file"
   ]
  },
  {
   "cell_type": "markdown",
   "id": "4f2f5b09-6b1e-4c80-b8c9-d6e4df5ecd2b",
   "metadata": {},
   "source": [
    "To read the CSV using Pandas, you use the read_csv() function. Since this CSV does not contain headers, you can use the keys of the attribute_dict dictionary as a list to assign headers to the data."
   ]
  },
  {
   "cell_type": "code",
   "execution_count": 7,
   "id": "2e92a27c-2203-4a98-932c-fe8a82ddae1b",
   "metadata": {},
   "outputs": [],
   "source": [
    "# Read the CSV data\n",
    "file_path = 'INSTRUCTOR.csv'\n",
    "df = pd.read_csv(file_path, names = attribute_list)"
   ]
  },
  {
   "cell_type": "markdown",
   "id": "e144b4a0-fe7c-481f-b735-8c7b5f00f4e4",
   "metadata": {},
   "source": [
    "# Loading the data to a table"
   ]
  },
  {
   "cell_type": "markdown",
   "id": "40355670-574e-4151-a29e-bee59fdadfd0",
   "metadata": {},
   "source": [
    "The pandas library provides easy loading of its dataframes directly to the database. For this, you may use the to_sql() method of the dataframe object.\n",
    "\n",
    "However, while you load the data for creating the table, you need to be careful if a table with the same name already exists in the database. If so, and it isn't required anymore, the tables should be replaced with the one you are loading here. You may also need to append some information to an existing table. For this purpose, to_sql() function uses the argument if_exists."
   ]
  },
  {
   "cell_type": "markdown",
   "id": "166f0d9e-5387-4a6a-8c64-0d3b037d0a24",
   "metadata": {},
   "source": [
    "As you need to create a fresh table upon execution, add the following commands to the code. The print command is optional, but helps identify the completion of the steps of code until this point."
   ]
  },
  {
   "cell_type": "code",
   "execution_count": 9,
   "id": "a1ec1ec1-339b-4ee5-81a5-df75b6ffdab4",
   "metadata": {},
   "outputs": [
    {
     "name": "stdout",
     "output_type": "stream",
     "text": [
      "Table is ready\n"
     ]
    }
   ],
   "source": [
    "# Load the CSV to the database\n",
    "df.to_sql(table_name, conn, if_exists = 'replace', index =False)\n",
    "print('Table is ready')"
   ]
  },
  {
   "cell_type": "markdown",
   "id": "f67006e7-d732-4d6f-9408-9db70dbfd19c",
   "metadata": {},
   "source": [
    "# Python Scripting: Running basic queries on data"
   ]
  },
  {
   "cell_type": "markdown",
   "id": "1a892b6f-688a-4ee3-9a7d-52b394baf68a",
   "metadata": {},
   "source": [
    "Now that the data is uploaded to the table in the database, anyone with access to the database can retrieve this data by executing SQL queries.\n",
    "\n",
    "Some basic SQL queries to test this data are SELECT queries for viewing data, and COUNT query to count the number of entries.\n",
    "\n",
    "SQL queries can be executed on the data using the read_sql function in pandas."
   ]
  },
  {
   "cell_type": "markdown",
   "id": "d814ac4e-7d42-48ad-9084-b167ed04a65e",
   "metadata": {},
   "source": [
    "Now, run the following tasks for data retrieval on the created database.\n",
    "\n",
    "1. Viewing all the data in the table."
   ]
  },
  {
   "cell_type": "code",
   "execution_count": 11,
   "id": "ae37df79-1dad-4ad3-b4ad-cb96ab4de218",
   "metadata": {},
   "outputs": [
    {
     "name": "stdout",
     "output_type": "stream",
     "text": [
      "SELECT * FROM INSTRUCTOR\n",
      "    ID    FNAME      LNAME      CITY CCODE\n",
      "0    1      Rav      Ahuja   TORONTO    CA\n",
      "1    2     Raul      Chong   Markham    CA\n",
      "2    3     Hima  Vasudevan   Chicago    US\n",
      "3    4     John     Thomas  Illinois    US\n",
      "4    5    Alice      James  Illinois    US\n",
      "5    6    Steve      Wells  Illinois    US\n",
      "6    7  Santosh      Kumar  Illinois    US\n",
      "7    8    Ahmed    Hussain  Illinois    US\n",
      "8    9    Nancy      Allen  Illinois    US\n",
      "9   10     Mary     Thomas  Illinois    US\n",
      "10  11  Bharath      Gupta  Illinois    US\n",
      "11  12   Andrea      Jones  Illinois    US\n",
      "12  13      Ann      Jacob  Illinois    US\n",
      "13  14     Amit      Kumar  NewDelhi    IN\n"
     ]
    }
   ],
   "source": [
    "# Query 1: Display all rows of the table\n",
    "query_statement = f\"SELECT * FROM {table_name}\"\n",
    "query_output = pd.read_sql(query_statement, conn)\n",
    "print(query_statement)\n",
    "print(query_output)"
   ]
  },
  {
   "cell_type": "markdown",
   "id": "d917be36-656d-4d30-89dd-49a771b931a4",
   "metadata": {},
   "source": [
    "2. Viewing only FNAME column of data."
   ]
  },
  {
   "cell_type": "code",
   "execution_count": 13,
   "id": "1af90fd4-caa9-4114-a25b-ec78dcd64a28",
   "metadata": {},
   "outputs": [
    {
     "name": "stdout",
     "output_type": "stream",
     "text": [
      "SELECT FNAME FROM INSTRUCTOR\n",
      "      FNAME\n",
      "0       Rav\n",
      "1      Raul\n",
      "2      Hima\n",
      "3      John\n",
      "4     Alice\n",
      "5     Steve\n",
      "6   Santosh\n",
      "7     Ahmed\n",
      "8     Nancy\n",
      "9      Mary\n",
      "10  Bharath\n",
      "11   Andrea\n",
      "12      Ann\n",
      "13     Amit\n"
     ]
    }
   ],
   "source": [
    "# Query 2: Display only the FNAME column for the full table.\n",
    "query_statement = f\"SELECT FNAME FROM {table_name}\"\n",
    "query_output = pd.read_sql(query_statement, conn)\n",
    "print(query_statement)\n",
    "print(query_output)"
   ]
  },
  {
   "cell_type": "markdown",
   "id": "12f52284-267d-4425-9a4c-fb1c0f20811c",
   "metadata": {},
   "source": [
    "3. Viewing the total number of entries in the table."
   ]
  },
  {
   "cell_type": "code",
   "execution_count": 15,
   "id": "6b0faa11-0708-4abb-84b8-1b6f0919b5b0",
   "metadata": {},
   "outputs": [
    {
     "name": "stdout",
     "output_type": "stream",
     "text": [
      "SELECT COUNT(*) FROM INSTRUCTOR\n",
      "   COUNT(*)\n",
      "0        14\n"
     ]
    }
   ],
   "source": [
    "# Query 3: Display the count of the total number of rows.\n",
    "query_statement = f\"SELECT COUNT(*) FROM {table_name}\"\n",
    "query_output = pd.read_sql(query_statement, conn)\n",
    "print(query_statement)\n",
    "print(query_output)"
   ]
  },
  {
   "cell_type": "markdown",
   "id": "7c5c9570-46b9-4dbb-803e-987e21979e99",
   "metadata": {},
   "source": [
    "Append some data to the table. Consider the following.\n",
    "\n",
    "a. Assume the ID is 100.\n",
    "\n",
    "b. Assume the first name, FNAME, is John.\n",
    "\n",
    "c. Assume the last name as LNAME, Doe.\n",
    "\n",
    "d. Assume the city of residence, CITY is Paris.\n",
    "\n",
    "e. Assume the country code, CCODE is FR."
   ]
  },
  {
   "cell_type": "markdown",
   "id": "ab415a8b-660f-45c9-8696-517a34aba3f4",
   "metadata": {},
   "source": [
    "Use the following statements to create the dataframe of the new data."
   ]
  },
  {
   "cell_type": "code",
   "execution_count": 17,
   "id": "54bce5e6-a78a-4a64-84db-be8af94da3ae",
   "metadata": {},
   "outputs": [],
   "source": [
    "# Define data to be appended\n",
    "data_dict = {'ID' : [100],\n",
    "            'FNAME' : ['John'],\n",
    "            'LNAME' : ['Doe'],\n",
    "            'CITY' : ['Paris'],\n",
    "            'CCODE' : ['FR']}\n",
    "data_append = pd.DataFrame(data_dict)"
   ]
  },
  {
   "cell_type": "markdown",
   "id": "8db0d6f2-3941-413b-a94c-42c3219b5a17",
   "metadata": {},
   "source": [
    "Use the following statement to append the data to the INSTRUCTOR table."
   ]
  },
  {
   "cell_type": "code",
   "execution_count": 19,
   "id": "79ba6b48-59d6-473e-8894-2a2960da25e8",
   "metadata": {},
   "outputs": [
    {
     "name": "stdout",
     "output_type": "stream",
     "text": [
      "Data appended successfully\n"
     ]
    }
   ],
   "source": [
    "# Append data to the table\n",
    "data_append.to_sql(table_name, conn, if_exists = 'append', index =False)\n",
    "print('Data appended successfully')"
   ]
  },
  {
   "cell_type": "markdown",
   "id": "acff0173-ce1a-4353-8d98-3a1df3af740b",
   "metadata": {},
   "source": [
    "Repeat the COUNT query. You will observe an increase by 1 in the output of the first COUNT query and the second one."
   ]
  },
  {
   "cell_type": "code",
   "execution_count": 21,
   "id": "8d8a5023-66ab-4c85-b8ef-0caa3ad15599",
   "metadata": {},
   "outputs": [
    {
     "name": "stdout",
     "output_type": "stream",
     "text": [
      "SELECT COUNT(*) FROM INSTRUCTOR\n",
      "   COUNT(*)\n",
      "0        15\n"
     ]
    }
   ],
   "source": [
    "# Query 4: Display the count of the total number of rows.\n",
    "query_statement = f\"SELECT COUNT(*) FROM {table_name}\"\n",
    "query_output = pd.read_sql(query_statement, conn)\n",
    "print(query_statement)\n",
    "print(query_output)"
   ]
  },
  {
   "cell_type": "markdown",
   "id": "a6d8b4d3-cd8c-4494-87ac-e3c252d711aa",
   "metadata": {},
   "source": [
    "Add the following line at the end of db_code.py to close the connection to the database."
   ]
  },
  {
   "cell_type": "code",
   "execution_count": 23,
   "id": "cd19764b-5a99-4eed-81aa-370564df68c2",
   "metadata": {},
   "outputs": [],
   "source": [
    "# Close the connection\n",
    "conn.close()"
   ]
  },
  {
   "cell_type": "markdown",
   "id": "4362dcc1-68a6-4053-a880-eb0f0c9ebc78",
   "metadata": {},
   "source": [
    "# Code Execution"
   ]
  },
  {
   "cell_type": "markdown",
   "id": "3c1d38ff-6535-4fc5-aa50-62f8129b1bda",
   "metadata": {},
   "source": [
    "Execute db_code.py from the terminal window using the following command."
   ]
  },
  {
   "cell_type": "raw",
   "id": "37c1e453-a7ad-4be9-bff4-7295f9849972",
   "metadata": {},
   "source": [
    "python3.11 db_code.py"
   ]
  }
 ],
 "metadata": {
  "kernelspec": {
   "display_name": "Python [conda env:base] *",
   "language": "python",
   "name": "conda-base-py"
  },
  "language_info": {
   "codemirror_mode": {
    "name": "ipython",
    "version": 3
   },
   "file_extension": ".py",
   "mimetype": "text/x-python",
   "name": "python",
   "nbconvert_exporter": "python",
   "pygments_lexer": "ipython3",
   "version": "3.12.7"
  }
 },
 "nbformat": 4,
 "nbformat_minor": 5
}
